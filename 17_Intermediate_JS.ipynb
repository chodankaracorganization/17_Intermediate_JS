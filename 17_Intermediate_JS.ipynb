{
  "nbformat": 4,
  "nbformat_minor": 0,
  "metadata": {
    "colab": {
      "provenance": []
    },
    "kernelspec": {
      "name": "python3",
      "display_name": "Python 3"
    },
    "language_info": {
      "name": "python"
    }
  },
  "cells": [
    {
      "cell_type": "markdown",
      "source": [
        "Q1. Create an arrow function called square that takes a number as an argument and returns its square. Use\n",
        "the arrow function to calculate the square of a given number and display the result."
      ],
      "metadata": {
        "id": "Chjq89SnEUp5"
      }
    },
    {
      "cell_type": "code",
      "source": [
        "const square = (number) => number * number;\n",
        "\n",
        "console.log(square(10));"
      ],
      "metadata": {
        "id": "ceZz_pgvmdiB"
      },
      "execution_count": null,
      "outputs": []
    },
    {
      "cell_type": "markdown",
      "source": [
        "Q2. Create a JavaScript function called generateGreeting that takes a name as an argument and returns a\n",
        "personalized greeting message. Use this function to greet three different people."
      ],
      "metadata": {
        "id": "mcTvSUwlEPwW"
      }
    },
    {
      "cell_type": "code",
      "source": [
        "const generateGreeting = (name) => {\n",
        "  return `hello ${name} Have a nice day! `;\n",
        "};\n",
        "\n",
        "const greeting1 = generateGreeting(\"Ashish\");\n",
        "const greeting2 = generateGreeting(\"Chetan\");\n",
        "const greeting3 = generateGreeting(\"Jayesh\");\n",
        "\n",
        "console.log(greeting1);\n",
        "console.log(greeting2);\n",
        "console.log(greeting3);\n"
      ],
      "metadata": {
        "id": "upbZjE7HEGry"
      },
      "execution_count": null,
      "outputs": []
    },
    {
      "cell_type": "markdown",
      "source": [],
      "metadata": {
        "id": "uZXz37E-ENVe"
      }
    },
    {
      "cell_type": "markdown",
      "source": [
        "Q3. Create an IIFE (Immediately Invoked Function Expression) that calculates the square of a number and\n",
        "immediately displays the result."
      ],
      "metadata": {
        "id": "xDMv15wxEXGR"
      }
    },
    {
      "cell_type": "code",
      "source": [
        "(function () {\n",
        "  function square(number) {\n",
        "    return number * number;\n",
        "  }\n",
        "\n",
        "  console.log(square(5));\n",
        "})();\n"
      ],
      "metadata": {
        "id": "tD-mldXFEeb2"
      },
      "execution_count": null,
      "outputs": []
    },
    {
      "cell_type": "markdown",
      "source": [
        "Q4. Write a JavaScript function called calculateTax that takes an income as an argument and returns the\n",
        "amount of tax to be paid. Use a closure to handle different tax rates based on income ranges. Test the\n",
        "function with various income."
      ],
      "metadata": {
        "id": "Oho8RcDuEmp1"
      }
    },
    {
      "cell_type": "code",
      "source": [
        "function createTaxCalculator() {\n",
        "  const taxBrackets = [\n",
        "    { min: 0, max: 10000, rate: 0.1 },\n",
        "    { min: 10001, max: 50000, rate: 0.2 },\n",
        "    { min: 50001, max: 100000, rate: 0.3 },\n",
        "    { min: 100001, max: Infinity, rate: 0.4 },\n",
        "  ];\n",
        "\n",
        "  return function (income) {\n",
        "    let taxOwed = 0;\n",
        "\n",
        "    for (const bracket of taxBrackets) {\n",
        "      if (income > bracket.min) {\n",
        "        const taxableAmount = Math.min(income, bracket.max) - bracket.min;\n",
        "        taxOwed += taxableAmount * bracket.rate;\n",
        "      }\n",
        "    }\n",
        "    return taxOwed;\n",
        "  };\n",
        "}\n",
        "\n",
        "const calculateTax = createTaxCalculator();\n",
        "\n",
        "console.log(\"Tax on $8,000:\", calculateTax(8000).toFixed(2));\n",
        "console.log(\"Tax on $25,000:\", calculateTax(25000).toFixed(2));\n",
        "console.log(\"Tax on $75,000:\", calculateTax(75000).toFixed(2));\n",
        "console.log(\"Tax on $150,000:\", calculateTax(75000).toFixed(2));\n",
        "console.log(\"Tax on $1,000,000:\", calculateTax(75000).toFixed(2));\n"
      ],
      "metadata": {
        "id": "bAqNU5SqEol_"
      },
      "execution_count": null,
      "outputs": []
    },
    {
      "cell_type": "markdown",
      "source": [
        "Q5. Write a JavaScript function called factorial that calculates the factorial of a non-negative integer using\n",
        "recursion. Test the function with different inputs"
      ],
      "metadata": {
        "id": "bMwa-Zw9Eyhy"
      }
    },
    {
      "cell_type": "code",
      "source": [
        "function factorial(n) {\n",
        "  if (n > 0) {\n",
        "    if (n == 0 || n == 1) {\n",
        "      return 1;\n",
        "    }\n",
        "    return n * factorial(n - 1);\n",
        "  } else return null;\n",
        "}\n",
        "\n",
        "console.log(factorial(0));\n",
        "console.log(factorial(1));\n",
        "console.log(factorial(3));\n",
        "console.log(factorial(7));\n",
        "console.log(factorial(-8));\n"
      ],
      "metadata": {
        "id": "YTKT6IdnEzws"
      },
      "execution_count": null,
      "outputs": []
    },
    {
      "cell_type": "markdown",
      "source": [
        "Q6. Write a JavaScript function called curry that takes a function as an argument and returns a curried\n",
        "version of that function. The curried function should accept arguments one at a time and return a new\n",
        "function until all arguments are provided. Then, it should execute the original function with all arguments.\n",
        "Test the curry function with a function that adds two numbers"
      ],
      "metadata": {
        "id": "ax0p_kpOE6dw"
      }
    },
    {
      "cell_type": "code",
      "source": [
        "function curry(fn) {\n",
        "  return function curried(...args) {\n",
        "    if (args.length >= fn.length) {\n",
        "      return fn.apply(this, args);\n",
        "    } else {\n",
        "      return function (...nextArgs) {\n",
        "        return curried(...args, ...nextArgs);\n",
        "      };\n",
        "    }\n",
        "  };\n",
        "}\n",
        "\n",
        "function add(a, b) {\n",
        "  return a + b;\n",
        "}\n",
        "\n",
        "const curriedAdd = curry(add);\n",
        "\n",
        "console.log(curriedAdd(2)(3));\n",
        "\n"
      ],
      "metadata": {
        "id": "Px67GuquE8rJ"
      },
      "execution_count": null,
      "outputs": []
    }
  ]
}